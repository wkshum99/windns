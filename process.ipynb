{
 "cells": [
  {
   "cell_type": "code",
   "execution_count": 80,
   "metadata": {
    "collapsed": false
   },
   "outputs": [],
   "source": [
    "import os\n",
    "import re\n",
    "import time\n",
    "import codecs\n",
    "import numpy as np\n",
    "import pandas as pd\n",
    "from zipfile import ZipFile\n",
    "from sqlalchemy import create_engine"
   ]
  },
  {
   "cell_type": "code",
   "execution_count": 81,
   "metadata": {
    "collapsed": true
   },
   "outputs": [],
   "source": [
    "# today\n",
    "today = time.strftime('%Y-%m-%d', time.localtime())"
   ]
  },
  {
   "cell_type": "code",
   "execution_count": 82,
   "metadata": {
    "collapsed": true
   },
   "outputs": [],
   "source": [
    "logfile = 'E:\\\\Log\\\\dns\\\\hkdc01dns.zip'\n",
    "backup_path = 'E:\\\\Log\\\\backup\\\\'\n",
    "sqldb = 'E:\\\\log\\\\windns-log.db'"
   ]
  },
  {
   "cell_type": "code",
   "execution_count": 83,
   "metadata": {
    "collapsed": true
   },
   "outputs": [],
   "source": [
    "disk_engine = create_engine('sqlite:///'+sqldb, encoding = 'UTF-8')\n",
    "#disk_engine = create_engine('sqlite:///'+sqldb)\n",
    "#store = pd.HDFStore('windns-log.h5')"
   ]
  },
  {
   "cell_type": "code",
   "execution_count": 84,
   "metadata": {
    "collapsed": true
   },
   "outputs": [],
   "source": [
    "names = ['Date', 'Threadid', 'Context', 'Intpacketid', 'Protocol', 'Direction', 'Remoteip', 'Xid', 'QueryResponse',\n",
    "        'Opcode', 'Flag', 'Author', 'Trun', 'Recurd', 'Recura', 'Response', 'Questiontype', 'Domain']"
   ]
  },
  {
   "cell_type": "code",
   "execution_count": 85,
   "metadata": {
    "collapsed": false
   },
   "outputs": [],
   "source": [
    "dtype = {'Threadid':str, 'Context':str, 'Intpacketid':str, 'Protocol':str, \n",
    "         'Direction':str, 'Remoteip':str, 'Xid':str, 'QueryResponse':str,\n",
    "        'Opcode':str, 'Flag':str, 'Author':str, 'Trun':str, 'Recurd':str, \n",
    "         'Recura':str, 'Response':str, 'Questiontype':str, 'Domain':str}"
   ]
  },
  {
   "cell_type": "code",
   "execution_count": 86,
   "metadata": {
    "collapsed": true
   },
   "outputs": [],
   "source": [
    "colspec = [(0, 20),(21, 25),(26, 34),(35, 51),(51, 54),(55, 58),(59, 75),(75, 79),(79, 80),\n",
    "    (80, 81),(81, 82),(85, 89),(89, 90),(90, 91),(91, 92),(94, 103),(105, 112),(112, 200)]"
   ]
  },
  {
   "cell_type": "code",
   "execution_count": 87,
   "metadata": {
    "collapsed": false
   },
   "outputs": [
    {
     "name": "stdout",
     "output_type": "stream",
     "text": [
      "file read in: 232.896999836 seconds\n"
     ]
    }
   ],
   "source": [
    "start_time = time.time()\n",
    "ret = []\n",
    "with ZipFile(logfile, 'r') as zip:\n",
    "   for filename in zip.namelist():\n",
    "        if not os.path.isdir(filename):\n",
    "            with zip.open(filename, 'rU') as f:\n",
    "                #for line in f:\n",
    "                for line in codecs.iterdecode(f, 'utf8'):\n",
    "                    if '[' in line and ']' in line:\n",
    "                        temp = []\n",
    "                        for i in colspec:\n",
    "                            #temp.append(re.sub(r'[\\x03]|[\\x8d]|[\\xa0-\\xaf]|[\\xb0-\\xbf]|[\\xc0-\\xcf]|[\\xd0-\\xdf]', \n",
    "                            #                   '',line[i[0]:i[1]].strip()))\n",
    "                            temp.append(line[i[0]:i[1]])\n",
    "                        ret.append(temp)\n",
    "#df = pd.read_fwf(zip.open(filename, 'r'), colspecs=colspec, skiprows=29, skip_blank_lines=True)  \n",
    "print (\"file read in: \" + str(time.time() - start_time) + \" seconds\")"
   ]
  },
  {
   "cell_type": "code",
   "execution_count": 88,
   "metadata": {
    "collapsed": false
   },
   "outputs": [],
   "source": [
    "#ret[473000:473150]"
   ]
  },
  {
   "cell_type": "code",
   "execution_count": 89,
   "metadata": {
    "collapsed": false
   },
   "outputs": [
    {
     "name": "stdout",
     "output_type": "stream",
     "text": [
      "changed to dataframe in: 13.9450001717 seconds\n"
     ]
    }
   ],
   "source": [
    "start_time = time.time()\n",
    "#df = pd.read_fwf('./hkdc01dns2.zip', colspecs=colspec, names=names, skiprows=29, skip_blank_lines=True, compression='zip')\n",
    "df = pd.DataFrame(ret, columns=names)\n",
    "print (\"changed to dataframe in: \" + str(time.time() - start_time) + \" seconds\")"
   ]
  },
  {
   "cell_type": "code",
   "execution_count": 90,
   "metadata": {
    "collapsed": false
   },
   "outputs": [
    {
     "name": "stdout",
     "output_type": "stream",
     "text": [
      "data cleanup in: 44.6449999809 seconds\n"
     ]
    }
   ],
   "source": [
    "start_time = time.time()\n",
    "df.dropna(axis=0, how='all', inplace=True) # somehow the skip_blank_lines is not working, so manually remove blank rows\n",
    "df = df[df['Context'] != 'EVENT'] # filter out the EVENT row\n",
    "#df['Domain'] = df['Domain'].str.replace('\\x03', '?') # replace the unreadable char in the Domain column with '?'\n",
    "#df['Domain'] = df['Domain'].str.replace('\\(\\d*\\)', '.')\n",
    "#df[names[1:]] = df[names[1:]].astype(str) # change all columns to string type\n",
    "print (\"data cleanup in: \" + str(time.time() - start_time) + \" seconds\")"
   ]
  },
  {
   "cell_type": "code",
   "execution_count": 91,
   "metadata": {
    "collapsed": false
   },
   "outputs": [],
   "source": [
    "#df.shape"
   ]
  },
  {
   "cell_type": "code",
   "execution_count": 92,
   "metadata": {
    "collapsed": false
   },
   "outputs": [],
   "source": [
    "#df['Domain'].str.replace('\\\\\\\\x', '?')[1457093:1457096]"
   ]
  },
  {
   "cell_type": "code",
   "execution_count": 93,
   "metadata": {
    "collapsed": false
   },
   "outputs": [],
   "source": [
    "#line = '(13)\\xc2\\xb5\\xc2\\xb1\\xc2\\xbe\\xc3\\xa2p\\xc3\\xb4\\xc2\\x8d(5)bdphk(3)com(0)'\n",
    "#re.sub(u'\\\\xc2', '?', line)"
   ]
  },
  {
   "cell_type": "code",
   "execution_count": 94,
   "metadata": {
    "collapsed": false
   },
   "outputs": [],
   "source": [
    "#def clean_text(row):\n",
    "# return the list of decoded cell in the Series instead \n",
    "#    return [r.decode('unicode_escape').encode('ascii', 'ignore') for r in row]"
   ]
  },
  {
   "cell_type": "code",
   "execution_count": 95,
   "metadata": {
    "collapsed": false
   },
   "outputs": [],
   "source": [
    "#df['Domain'] = df['Domain'].apply(clean_text)\n",
    "#df['Response'] = df['Response'].apply(clean_text)"
   ]
  },
  {
   "cell_type": "code",
   "execution_count": 96,
   "metadata": {
    "collapsed": false
   },
   "outputs": [
    {
     "name": "stdout",
     "output_type": "stream",
     "text": [
      "output data to sql in: 218.404000044 seconds\n"
     ]
    }
   ],
   "source": [
    "start_time = time.time()\n",
    "df.to_sql('log', disk_engine, index=False, if_exists='append', chunksize=500)\n",
    "#df[473000:473150].to_sql('log', disk_engine, index=False, if_exists='append', chunksize=500)\n",
    "#df.to_hdf(store, key='log', format='table', mode='a', append=True, complevel=3, complib='zlib')\n",
    "#df.to_csv('windns-log.csv')\n",
    "print (\"output data to sql in: \" + str(time.time() - start_time) + \" seconds\")"
   ]
  },
  {
   "cell_type": "code",
   "execution_count": 97,
   "metadata": {
    "collapsed": false
   },
   "outputs": [],
   "source": [
    "filename = backup_path+today+\".zip\"\n",
    "if os.path.isfile(filename) != True:\n",
    "    os.rename(logfile, backup_path+today+\".zip\")\n",
    "else:\n",
    "    os.unlink(backup_path+today+\".zip\")"
   ]
  },
  {
   "cell_type": "code",
   "execution_count": 98,
   "metadata": {
    "collapsed": false,
    "scrolled": true
   },
   "outputs": [],
   "source": [
    "#start_time = time.time()\n",
    "#df.to_sql('log', disk_engine, index=False, if_exists='append')\n",
    "#print time.time() - start_time, \"seconds\""
   ]
  },
  {
   "cell_type": "code",
   "execution_count": 99,
   "metadata": {
    "collapsed": false
   },
   "outputs": [],
   "source": [
    "#df['Domain'].value_counts()[0:50]"
   ]
  },
  {
   "cell_type": "code",
   "execution_count": null,
   "metadata": {
    "collapsed": true
   },
   "outputs": [],
   "source": [
    "if __name__ == \"__main__\":\n",
    "\n",
    "    if len(sys.argv) != 2:\n",
    "        sys.exit(\"number of input parameters is incorrect\")\n",
    "\n",
    "    path = sys.argv[1]\n",
    "    \n",
    "    rename(path, newpath)"
   ]
  }
 ],
 "metadata": {
  "anaconda-cloud": {},
  "kernelspec": {
   "display_name": "Python [default]",
   "language": "python",
   "name": "python2"
  },
  "language_info": {
   "codemirror_mode": {
    "name": "ipython",
    "version": 2
   },
   "file_extension": ".py",
   "mimetype": "text/x-python",
   "name": "python",
   "nbconvert_exporter": "python",
   "pygments_lexer": "ipython2",
   "version": "2.7.12"
  }
 },
 "nbformat": 4,
 "nbformat_minor": 0
}
